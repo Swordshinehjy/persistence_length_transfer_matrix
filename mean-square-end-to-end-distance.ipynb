{
 "cells": [
  {
   "cell_type": "code",
   "execution_count": 64,
   "metadata": {},
   "outputs": [],
   "source": [
    "import numpy as np\n",
    "from scipy.interpolate import interp1d\n",
    "from scipy.integrate import quad, cumulative_trapezoid\n",
    "from scipy.spatial.transform import Rotation as R\n",
    "import matplotlib.pyplot as plt\n",
    "import scipy.constants as sc\n",
    "from pathlib import Path\n",
    "from numpy.linalg import eigvals\n",
    "\n",
    "#TODO: need test, probably have bugs\n",
    "\n",
    "temperature = 700  # K\n",
    "l = [2.527, 1.438]\n",
    "# change the logic of bond order and angle order，l_array[1] rotated by angle[1]\n",
    "Angle = np.deg2rad(np.array([-15, -15]))\n",
    "rotation = np.array([0, 1])\n",
    "labels = {\n",
    "    1: {'label': 'thiophene-thiophene', 'color': 'b'},\n",
    "    # 2: {'label': 'dihedralB', 'color': 'm'},\n",
    "    # 3: {'label': 'T-E', 'color': 'c'},\n",
    "    # 4: {\"label\": \"FT-FT\", \"color\": 'g'}, \n",
    "    # 5: {\"label\": \"ADTDI-FT\", \"color\": 'r'},\n",
    "}"
   ]
  },
  {
   "cell_type": "code",
   "execution_count": 65,
   "metadata": {},
   "outputs": [],
   "source": [
    "def read_data(file_name):\n",
    "    data = np.loadtxt(file_name)\n",
    "    data = np.reshape(data, (-1, 2))\n",
    "    if data[:, 0].max() - data[:, 0].min() != 360:\n",
    "        mirrored = np.column_stack((-data[:, 0] + 360, data[:, 1]))\n",
    "        combined = np.vstack((data, mirrored))\n",
    "        combined = np.unique(combined, axis=0)\n",
    "        return combined[np.argsort(combined[:, 0])]\n",
    "    else:\n",
    "        return data[np.argsort(data[:, 0])]\n",
    "\n",
    "\n",
    "def fit_function(data_label):\n",
    "    data = read_data(Path(f\"{data_label['label']}.txt\"))\n",
    "    fitf = interp1d(data[:, 0],\n",
    "                    data[:, 1],\n",
    "                    kind='cubic',\n",
    "                    fill_value=\"extrapolate\")\n",
    "    return fitf\n",
    "\n",
    "\n",
    "def make_Mmat(all_data, Angle_rad, rotation_types, temperature):\n",
    "    kTval = sc.R * temperature / 1000  # in kJ/mol\n",
    "    M = len(rotation_types)\n",
    "    A_list = []\n",
    "    for i in range(M):\n",
    "        rot_id = int(rotation_types[i])\n",
    "        theta = float(Angle_rad[i])\n",
    "        if rot_id == 0:\n",
    "            m_i, s_i = 1.0, 0.0\n",
    "        elif rot_id == -1:\n",
    "            m_i, s_i = -1.0, 0.0\n",
    "        else:\n",
    "            fitf = all_data[rot_id]\n",
    "            Z, _ = quad(lambda phi_deg: np.exp(-fitf(phi_deg) / kTval),\n",
    "                        0,\n",
    "                        360,\n",
    "                        limit=1000)\n",
    "            m_i, _ = quad(lambda phi_deg: np.cos(np.deg2rad(phi_deg)) * np.exp(\n",
    "                -fitf(phi_deg) / kTval),\n",
    "                          0,\n",
    "                          360,\n",
    "                          limit=1000)\n",
    "            m_i /= Z\n",
    "            s_i, _ = quad(lambda phi_deg: np.sin(np.deg2rad(phi_deg)) * np.exp(\n",
    "                -fitf(phi_deg) / kTval),\n",
    "                          0,\n",
    "                          360,\n",
    "                          limit=1000)\n",
    "            s_i /= Z\n",
    "\n",
    "        S = np.array([[m_i, -s_i, 0.0], [s_i, m_i, 0.0], [0.0, 0.0, 1.0]])\n",
    "        c = np.cos(theta)\n",
    "        s = np.sin(theta)\n",
    "        R_y = np.array([[c, 0.0, s], [0.0, 1.0, 0.0], [-s, 0.0, c]])\n",
    "        A_list.append(S @ R_y)\n",
    "\n",
    "    # Multiply all A_i for the repeat unit\n",
    "    Mmat = np.eye(3)\n",
    "    for A in A_list:\n",
    "        Mmat = A @ Mmat\n",
    "    return Mmat\n",
    "def compute_persistence_in_repeats(Mmat):\n",
    "    \"\"\"\n",
    "    Calculates the persistence length in repeat units\n",
    "    \"\"\"\n",
    "        # eigen values\n",
    "    eigs = eigvals(Mmat)\n",
    "    lambda_max = float(np.max(np.abs(eigs)))\n",
    "\n",
    "    # if lambda_max is close to 1, numerical stability may be an issue; if >=1 (numerical error), clip to 1 - eps\n",
    "    if lambda_max >= 1.0:\n",
    "        eps = 1e-12\n",
    "        if lambda_max > 1.0 + 1e-8:\n",
    "            print(\"Warning: lambda_max > 1 (numerical error)\")\n",
    "        lambda_max = min(lambda_max, 1.0 - eps)\n",
    "\n",
    "    # persistence length measured in number of repeat units:\n",
    "    lp_in_repeats = -1.0 / np.log(lambda_max)\n",
    "    return lp_in_repeats, lambda_max"
   ]
  },
  {
   "cell_type": "code",
   "execution_count": null,
   "metadata": {},
   "outputs": [],
   "source": [
    "def compute_mean_square_end_to_end(N_p, l, N):\n",
    "    L_repeat = np.sum(l)\n",
    "    if N_p == np.inf:\n",
    "        L = N * L_repeat\n",
    "        return L**2\n",
    "    else:\n",
    "        return 2 * N_p * N * L_repeat**2 * (\n",
    "            1 - N_p / N * (1 - np.exp(-N / N_p)))"
   ]
  },
  {
   "cell_type": "code",
   "execution_count": null,
   "metadata": {},
   "outputs": [
    {
     "name": "stdout",
     "output_type": "stream",
     "text": [
      "Persistence length in repeat units: 10.471736900837307\n"
     ]
    }
   ],
   "source": [
    "all_data = {}\n",
    "for key, label_info in labels.items():\n",
    "    all_data[key] = fit_function(label_info)\n",
    "matrix = make_Mmat(all_data, Angle, rotation, temperature)\n",
    "N_p, lambda_max = compute_persistence_in_repeats(matrix)\n",
    "print(f\"Persistence length in repeat units: {N_p}\")"
   ]
  },
  {
   "cell_type": "code",
   "execution_count": null,
   "metadata": {},
   "outputs": [
    {
     "data": {
      "image/png": "[encoded data removed]",
      "text/plain": [
       "<Figure size 600x400 with 1 Axes>"
      ]
     },
     "metadata": {},
     "output_type": "display_data"
    }
   ],
   "source": [
    "\n",
    "N_vals = np.arange(1, 26)  # N_repeats = 1 到 25\n",
    "R2_vals = compute_mean_square_end_to_end(N_p, l, N_vals)\n",
    "\n",
    "plt.figure(figsize=(6,4))\n",
    "plt.plot(N_vals, R2_vals, 'o-', color='b')\n",
    "plt.xlabel(\"Number of repeats (N_repeats)\")\n",
    "plt.ylabel(r\"$\\langle R^2 \\rangle$ (Å$^2$)\")\n",
    "plt.title(r\"Mean-square end-to-end distance vs $N_{\\mathrm{repeats}}$\")\n",
    "plt.grid(True)\n",
    "plt.tight_layout()\n",
    "plt.show()"
   ]
  }
 ],
 "metadata": {
  "kernelspec": {
   "display_name": "Python 3",
   "language": "python",
   "name": "python3"
  },
  "language_info": {
   "codemirror_mode": {
    "name": "ipython",
    "version": 3
   },
   "file_extension": ".py",
   "mimetype": "text/x-python",
   "name": "python",
   "nbconvert_exporter": "python",
   "pygments_lexer": "ipython3",
   "version": "3.13.3"
  }
 },
 "nbformat": 4,
 "nbformat_minor": 2
}
